{
  "cells": [
    {
      "metadata": {
        "_cell_guid": "79c7e3d0-c299-4dcb-8224-4455121ee9b0",
        "collapsed": true,
        "_uuid": "d629ff2d2480ee46fbb7e2d37f6b5fab8052498a",
        "trusted": false
      },
      "cell_type": "markdown",
      "source": "# Import the datasets"
    },
    {
      "metadata": {
        "trusted": true,
        "_uuid": "8d41fec6f72ff27361bbca97a1fd933183287b1a",
        "collapsed": true
      },
      "cell_type": "code",
      "source": "import numpy as np\nimport pandas as pd\nimport matplotlib.pyplot as plt\nimport seaborn as sns\nimport os\n% matplotlib inline\nplt.style.use('seaborn-whitegrid')\n\nTRAIN_PATH = '../input/train.csv'\nTEST_PATH = '../input/test.csv'\n\nprint(os.listdir(\"../input\"))",
      "execution_count": null,
      "outputs": []
    },
    {
      "metadata": {
        "trusted": true,
        "_uuid": "bbc341655432b606c9cca9cc11347ec1d5944929",
        "collapsed": true
      },
      "cell_type": "code",
      "source": "# https://www.kaggle.com/szelee/how-to-import-a-csv-file-of-55-million-rows\n# https://www.kaggle.com/breemen/nyc-taxi-fare-data-exploration",
      "execution_count": null,
      "outputs": []
    },
    {
      "metadata": {
        "trusted": true,
        "_uuid": "92655a11f95506c55db0b5c2b130748891352f7a",
        "collapsed": true
      },
      "cell_type": "code",
      "source": "# Set columns to most suitable type to optimize for memory usage\ntraintypes = {'fare_amount': 'float32',\n              'pickup_datetime': 'str', \n              'pickup_longitude': 'float32',\n              'pickup_latitude': 'float32',\n              'dropoff_longitude': 'float32',\n              'dropoff_latitude': 'float32',\n              'passenger_count': 'uint8'}\n\ncols = list(traintypes.keys())\n\ndf_train =  pd.read_csv(TRAIN_PATH, usecols=cols, dtype=traintypes, nrows = 10_000_000)\ndf_train.dtypes\n\ndf_train['pickup_datetime'] = df_train['pickup_datetime'].str.slice(0, 16)\ndf_train['pickup_datetime'] = pd.to_datetime(df_train['pickup_datetime'], utc=True, format='%Y-%m-%d %H:%M')",
      "execution_count": null,
      "outputs": []
    },
    {
      "metadata": {
        "trusted": true,
        "_uuid": "b1103317842bb4ff31e5167f753df660c7156eab",
        "collapsed": true
      },
      "cell_type": "code",
      "source": "df_train.head(5)",
      "execution_count": null,
      "outputs": []
    },
    {
      "metadata": {
        "_uuid": "5c898041e9474602e8bb3e3c2f8faabd2004ffbd"
      },
      "cell_type": "markdown",
      "source": "## Add Features and Data Cleaning"
    },
    {
      "metadata": {
        "trusted": true,
        "_uuid": "758f751b45863dd9c0eeb960cc2dd4f48e677ba2",
        "collapsed": true
      },
      "cell_type": "code",
      "source": "# For this plot and further analysis, we need a function to calculate the distance in miles between locations in lon,lat coordinates.\n# This function is based on https://stackoverflow.com/questions/27928/\n# calculate-distance-between-two-latitude-longitude-points-haversine-formula \n# return distance in miles\n\ndef add_time(df):\n    # add time information\n    df['year'] = df.pickup_datetime.apply(lambda t: t.year)\n    df['weekday'] = df.pickup_datetime.apply(lambda t: t.weekday())\n    df['hour'] = df.pickup_datetime.apply(lambda t: t.hour)\n    \ndef distance(lat1, lon1, lat2, lon2):\n    p = 0.017453292519943295 # Pi/180\n    a = 0.5 - np.cos((lat2 - lat1) * p)/2 + np.cos(lat1 * p) * np.cos(lat2 * p) * (1 - np.cos((lon2 - lon1) * p)) / 2\n    return 0.6213712 * 12742 * np.arcsin(np.sqrt(a)) # 2*R*asin...\n\ndef add_travel_vector_features(df):\n    # add new column to dataframe with distance in miles\n    df['distance_miles'] = distance(df.pickup_latitude, df.pickup_longitude, \\\n                                          df.dropoff_latitude, df.dropoff_longitude)\n    #df['abs_diff_longitude'] = (df.dropoff_longitude - df.pickup_longitude).abs()\n    #df['abs_diff_latitude'] = (df.dropoff_latitude - df.pickup_latitude).abs()\n    #df['abs_diff_lon_lat'] = (df.abs_diff_longitude + df.abs_diff_latitude)\n\ndef add_airport_dist(df):\n    \"\"\"\n    Return minumum distance from pickup or dropoff coordinates to each airport.\n    JFK: John F. Kennedy International Airport\n    EWR: Newark Liberty International Airport\n    LGA: LaGuardia Airport\n    \"\"\"\n    jfk_coord = (40.639722, -73.778889)\n    ewr_coord = (40.6925, -74.168611)\n    lga_coord = (40.77725, -73.872611)\n    \n    pickup_lat = df['pickup_latitude']\n    dropoff_lat = df['dropoff_latitude']\n    pickup_lon = df['pickup_longitude']\n    dropoff_lon = df['dropoff_longitude']\n    \n    pickup_jfk = distance(pickup_lat, pickup_lon, jfk_coord[0], jfk_coord[1]) \n    dropoff_jfk = distance(jfk_coord[0], jfk_coord[1], dropoff_lat, dropoff_lon) \n    pickup_ewr = distance(pickup_lat, pickup_lon, ewr_coord[0], ewr_coord[1])\n    dropoff_ewr = distance(ewr_coord[0], ewr_coord[1], dropoff_lat, dropoff_lon) \n    pickup_lga = distance(pickup_lat, pickup_lon, lga_coord[0], lga_coord[1]) \n    dropoff_lga = distance(lga_coord[0], lga_coord[1], dropoff_lat, dropoff_lon) \n    \n    df['jfk_dist'] = pd.concat([pickup_jfk, dropoff_jfk], axis=1).min(axis=1)\n    df['ewr_dist'] = pd.concat([pickup_ewr, dropoff_ewr], axis=1).min(axis=1)\n    df['lga_dist'] = pd.concat([pickup_lga, dropoff_lga], axis=1).min(axis=1)\n\ndef add_features(df):\n    add_time(df)\n    add_travel_vector_features(df)\n    add_airport_dist(df)\n    \n    return df\n\ndef clean_df(df):\n    print('Old size: %d' % len(df))\n    \n    # Remove observations with missing values\n    df.dropna(how='any', axis='rows', inplace=True)\n\n    # Removing observations with erroneous values\n    mask = df['pickup_longitude'].between(-75, -73)\n    mask &= df['dropoff_longitude'].between(-75, -73)\n    mask &= df['pickup_latitude'].between(40, 42)\n    mask &= df['dropoff_latitude'].between(40, 42)\n    mask &= df['passenger_count'].between(0, 6)\n    mask &= df['fare_amount'].between(0, 250)\n    mask &= df['distance_miles'].between(0.05, 100)\n\n    df = df[mask]\n    \n    print('New size: %d' % len(df))\n    \n    return df",
      "execution_count": null,
      "outputs": []
    },
    {
      "metadata": {
        "trusted": true,
        "_uuid": "8bc89d931c3d5518a5cda606756872d8820656a6",
        "collapsed": true
      },
      "cell_type": "code",
      "source": "df_train = add_features(df_train)\ndf_train = clean_df(df_train)",
      "execution_count": null,
      "outputs": []
    },
    {
      "metadata": {
        "_uuid": "f56be479e63bc0dd0b7101f483d1c008de509609"
      },
      "cell_type": "markdown",
      "source": "## Dataset preparation for Linear Regression"
    },
    {
      "metadata": {
        "trusted": true,
        "_uuid": "53780d8524ff809f53039d2b8b9eecb6be7fe8a4",
        "collapsed": true
      },
      "cell_type": "code",
      "source": "cols = ['pickup_longitude', 'pickup_latitude', 'dropoff_longitude', 'dropoff_latitude', 'passenger_count', 'year', 'weekday', 'hour', 'distance_miles', 'jfk_dist', 'ewr_dist', 'lga_dist']\nX = df_train[cols]\ny = df_train['fare_amount']\n\nX.head()",
      "execution_count": null,
      "outputs": []
    },
    {
      "metadata": {
        "trusted": true,
        "_uuid": "c7c7ed078c9113d42df787532871e10ccc0ffdcd",
        "collapsed": true
      },
      "cell_type": "code",
      "source": "'''def encode_categories(df, cats):\n    return pd.get_dummies(df, columns=cats)\n\ncats = ['passenger_count', 'year','weekday','hour']\nX = encode_categories(X, cats)\n\nX.head()'''",
      "execution_count": null,
      "outputs": []
    },
    {
      "metadata": {
        "trusted": true,
        "_uuid": "fa37ac6d4c03ce32181b7ec0d511f4a2694d2527",
        "collapsed": true
      },
      "cell_type": "code",
      "source": "from sklearn.model_selection import train_test_split\nX_train, X_test, y_train, y_test = train_test_split(X, y, test_size=0.05, random_state=42)",
      "execution_count": null,
      "outputs": []
    },
    {
      "metadata": {
        "trusted": true,
        "_uuid": "c60f97a7e8ad00156ea7ffa9a362f27fd93b9b4c",
        "collapsed": true
      },
      "cell_type": "code",
      "source": "%%time\n\nfrom sklearn.linear_model import LinearRegression\nfrom sklearn.metrics import mean_squared_error\n\nmodel = LinearRegression()\nmodel.fit(X_train, y_train)\n\ny_pred = model.predict(X_test)\ny_pred[y_pred < 0] = 0\n\nnp.sqrt(mean_squared_error(y_test, y_pred))",
      "execution_count": null,
      "outputs": []
    },
    {
      "metadata": {
        "trusted": true,
        "_uuid": "931f7371d7d48f442993f2b183417f232348cc97",
        "collapsed": true
      },
      "cell_type": "code",
      "source": "model.coef_",
      "execution_count": null,
      "outputs": []
    },
    {
      "metadata": {
        "trusted": true,
        "_uuid": "e663f5e1ddf37017645db78d0821ed61b6b7245f",
        "collapsed": true
      },
      "cell_type": "code",
      "source": "from sklearn.metrics import mean_squared_error\nimport math\n\nprint('Score:', math.sqrt(mean_squared_error(y_test, y_pred)))",
      "execution_count": null,
      "outputs": []
    },
    {
      "metadata": {
        "trusted": true,
        "_uuid": "ed23f467120d456f91c919761fae65d82b08970d",
        "collapsed": true
      },
      "cell_type": "code",
      "source": "# plot prediction and actual data\n\nplt.figure(figsize=(14,7))\nplt.subplot(1, 2, 1)\nplt.plot(y_test, y_pred, '.', markersize=1.5)\nplt.title('Actual fare vs Predicted fare')\nplt.xlabel('Actual fare')\nplt.ylabel('Predicted fare')\n\nplt.subplot(1, 2, 2)\nplt.plot(y_test, y_pred, '.', markersize=1.5)\nplt.title('Actual fare vs Predicted fare (max $80)')\nplt.xlabel('Actual fare')\nplt.ylabel('Predicted fare')\nplt.xlim(0, 80)\nplt.ylim(0, 80)\n\nplt.show()",
      "execution_count": null,
      "outputs": []
    },
    {
      "metadata": {
        "trusted": true,
        "collapsed": true,
        "_uuid": "62009e7d500bf756c78fc2a68cbe42583907c71d"
      },
      "cell_type": "markdown",
      "source": "## Make predictions on the test set"
    },
    {
      "metadata": {
        "trusted": true,
        "_uuid": "250d935a23e7b72797fd6a13d7cfbcc47ce26256",
        "collapsed": true
      },
      "cell_type": "code",
      "source": "df_test = pd.read_csv('../input/test.csv')\ndf_test['pickup_datetime'] = df_test['pickup_datetime'].str.slice(0, 16)\ndf_test['pickup_datetime'] = pd.to_datetime(df_test['pickup_datetime'], utc=True, format='%Y-%m-%d %H:%M')",
      "execution_count": null,
      "outputs": []
    },
    {
      "metadata": {
        "trusted": true,
        "_uuid": "080c9bcdeaa3cd4ba14fec0904f0c3b76e4546bc",
        "collapsed": true
      },
      "cell_type": "code",
      "source": "df_test = add_features(df_test)",
      "execution_count": null,
      "outputs": []
    },
    {
      "metadata": {
        "trusted": true,
        "_uuid": "e5ea752748e94d0d011248112ec31ee2b6f282fe",
        "collapsed": true
      },
      "cell_type": "code",
      "source": "cols = ['pickup_longitude', 'pickup_latitude', 'dropoff_longitude', 'dropoff_latitude', 'passenger_count', 'year', 'weekday', 'hour', 'distance_miles', 'jfk_dist', 'ewr_dist', 'lga_dist']\nX_test = df_test[cols]",
      "execution_count": null,
      "outputs": []
    },
    {
      "metadata": {
        "trusted": true,
        "_uuid": "64dcc9807588d1a670577b0f03c0054a8a4bcf51",
        "collapsed": true
      },
      "cell_type": "code",
      "source": "'''cats = ['year','weekday','hour']\nX_test = encode_categories(X_test, cats)'''",
      "execution_count": null,
      "outputs": []
    },
    {
      "metadata": {
        "trusted": true,
        "_uuid": "92a80bfca97f967e6703351872b9b73c89a2a681",
        "collapsed": true
      },
      "cell_type": "code",
      "source": "pred_test = model.predict(X_test)\npred_test[pred_test < 0] = 0",
      "execution_count": null,
      "outputs": []
    },
    {
      "metadata": {
        "trusted": true,
        "_uuid": "b3e969d66ba363de993cee9e8e563b7a853760d6",
        "collapsed": true
      },
      "cell_type": "code",
      "source": "# Write the predictions to a CSV file which we can submit to the competition.\nsubmission = pd.DataFrame(\n    {'key': df_test.key, 'fare_amount': pred_test},\n    columns = ['key', 'fare_amount'])\nsubmission.to_csv('submission.csv', index = False)\n\nprint(os.listdir('.'))",
      "execution_count": null,
      "outputs": []
    }
  ],
  "metadata": {
    "kernelspec": {
      "display_name": "Python 3",
      "language": "python",
      "name": "python3"
    },
    "language_info": {
      "name": "python",
      "version": "3.6.4",
      "mimetype": "text/x-python",
      "codemirror_mode": {
        "name": "ipython",
        "version": 3
      },
      "pygments_lexer": "ipython3",
      "nbconvert_exporter": "python",
      "file_extension": ".py"
    }
  },
  "nbformat": 4,
  "nbformat_minor": 1
}