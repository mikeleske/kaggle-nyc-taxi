{
  "nbformat": 4,
  "nbformat_minor": 0,
  "metadata": {
    "colab": {
      "name": "kaggle_taxi_fastai_v4.ipynb",
      "version": "0.3.2",
      "provenance": [],
      "collapsed_sections": []
    },
    "kernelspec": {
      "name": "python3",
      "display_name": "Python 3"
    },
    "accelerator": "GPU"
  },
  "cells": [
    {
      "metadata": {
        "id": "tZpMfzVxivj5",
        "colab_type": "code",
        "colab": {}
      },
      "cell_type": "code",
      "source": [
        "from google.colab import files\n",
        "files.upload()"
      ],
      "execution_count": 0,
      "outputs": []
    },
    {
      "metadata": {
        "id": "l6qeZw9Wi47E",
        "colab_type": "code",
        "colab": {
          "base_uri": "https://localhost:8080/",
          "height": 287
        },
        "outputId": "33cab61f-d6fe-4a6d-d808-08e597d501fb"
      },
      "cell_type": "code",
      "source": [
        "!pip install -q kaggle\n",
        "!mkdir -p ~/.kaggle\n",
        "!cp kaggle.json ~/.kaggle/\n",
        "!kaggle competitions download -c new-york-city-taxi-fare-prediction\n",
        "!unzip train.csv.zip"
      ],
      "execution_count": 3,
      "outputs": [
        {
          "output_type": "stream",
          "text": [
            "Warning: Your Kaggle API key is readable by otherusers on this system! To fix this, you can run'chmod 600 /root/.kaggle/kaggle.json'\n",
            "Downloading sample_submission.csv to /content\n",
            "  0% 0.00/335k [00:00<?, ?B/s]\n",
            "100% 335k/335k [00:00<00:00, 62.6MB/s]\n",
            "Downloading test.csv to /content\n",
            "  0% 0.00/960k [00:00<?, ?B/s]\n",
            "100% 960k/960k [00:00<00:00, 93.8MB/s]\n",
            "Downloading train.csv.zip to /content\n",
            "100% 1.55G/1.56G [00:14<00:00, 126MB/s]\n",
            "100% 1.56G/1.56G [00:14<00:00, 113MB/s]\n",
            "Downloading GCP-Coupons-Instructions.rtf to /content\n",
            "  0% 0.00/486 [00:00<?, ?B/s]\n",
            "100% 486/486 [00:00<00:00, 242kB/s]\n",
            "Archive:  train.csv.zip\n",
            "  inflating: train.csv               \n"
          ],
          "name": "stdout"
        }
      ]
    },
    {
      "metadata": {
        "id": "H3WN4OGFet1C",
        "colab_type": "code",
        "colab": {
          "base_uri": "https://localhost:8080/",
          "height": 215
        },
        "outputId": "44c62fd7-856e-47f7-e87d-76797df5625c"
      },
      "cell_type": "code",
      "source": [
        "!ls -al"
      ],
      "execution_count": 4,
      "outputs": [
        {
          "output_type": "stream",
          "text": [
            "total 7200092\n",
            "drwxr-xr-x 1 root root       4096 Sep 12 06:14 .\n",
            "drwxr-xr-x 1 root root       4096 Sep 12 06:01 ..\n",
            "drwxr-xr-x 4 root root       4096 Sep 10 17:26 .config\n",
            "-rw-r--r-- 1 root root        486 Sep 12 06:14 GCP-Coupons-Instructions.rtf\n",
            "-rw-r--r-- 1 root root         65 Sep 12 06:13 kaggle.json\n",
            "drwxr-xr-x 2 root root       4096 Sep 10 17:46 sample_data\n",
            "-rw-r--r-- 1 root root     343271 Sep 12 06:14 sample_submission.csv\n",
            "-rw-r--r-- 1 root root     983020 Sep 12 06:14 test.csv\n",
            "-rw-r--r-- 1 root root 5697178298 Jul 25 00:51 train.csv\n",
            "-rw-r--r-- 1 root root 1674351600 Sep 12 06:14 train.csv.zip\n"
          ],
          "name": "stdout"
        }
      ]
    },
    {
      "metadata": {
        "id": "f48BOXgSMnf0",
        "colab_type": "text"
      },
      "cell_type": "markdown",
      "source": [
        "# Get fastai library"
      ]
    },
    {
      "metadata": {
        "id": "dMXmzc1MMrXL",
        "colab_type": "code",
        "colab": {
          "base_uri": "https://localhost:8080/",
          "height": 3331
        },
        "outputId": "a9f89a7d-bec1-4da1-b712-d9e17768b0c1"
      },
      "cell_type": "code",
      "source": [
        "!pip install git+https://github.com/fastai/fastai.git\n",
        "!pip3 install http://download.pytorch.org/whl/cu80/torch-0.3.1-cp36-cp36m-linux_x86_64.whl\n",
        "!pip3 install torchvision"
      ],
      "execution_count": 5,
      "outputs": [
        {
          "output_type": "stream",
          "text": [
            "Collecting git+https://github.com/fastai/fastai.git\n",
            "  Cloning https://github.com/fastai/fastai.git to /tmp/pip-req-build-w99bd8tu\n",
            "Collecting bcolz (from fastai==0.7.0)\n",
            "\u001b[?25l  Downloading https://files.pythonhosted.org/packages/5c/4e/23942de9d5c0fb16f10335fa83e52b431bcb8c0d4a8419c9ac206268c279/bcolz-1.2.1.tar.gz (1.5MB)\n",
            "\u001b[K    100% |████████████████████████████████| 1.5MB 6.0MB/s \n",
            "\u001b[?25hRequirement already satisfied: bleach in /usr/local/lib/python3.6/dist-packages (from fastai==0.7.0) (2.1.4)\n",
            "Requirement already satisfied: certifi in /usr/local/lib/python3.6/dist-packages (from fastai==0.7.0) (2018.8.24)\n",
            "Requirement already satisfied: cycler in /usr/local/lib/python3.6/dist-packages (from fastai==0.7.0) (0.10.0)\n",
            "Requirement already satisfied: decorator in /usr/local/lib/python3.6/dist-packages (from fastai==0.7.0) (4.3.0)\n",
            "Requirement already satisfied: entrypoints in /usr/local/lib/python3.6/dist-packages (from fastai==0.7.0) (0.2.3)\n",
            "Collecting feather-format (from fastai==0.7.0)\n",
            "  Downloading https://files.pythonhosted.org/packages/08/55/940b97cc6f19a19f5dab9efef2f68a0ce43a7632f858b272391f0b851a7e/feather-format-0.4.0.tar.gz\n",
            "Collecting graphviz (from fastai==0.7.0)\n",
            "  Downloading https://files.pythonhosted.org/packages/47/87/313cd4ea4f75472826acb74c57f94fc83e04ba93e4ccf35656f6b7f502e2/graphviz-0.9-py2.py3-none-any.whl\n",
            "Requirement already satisfied: html5lib in /usr/local/lib/python3.6/dist-packages (from fastai==0.7.0) (1.0.1)\n",
            "Requirement already satisfied: ipykernel in /usr/local/lib/python3.6/dist-packages (from fastai==0.7.0) (4.6.1)\n",
            "Requirement already satisfied: ipython in /usr/local/lib/python3.6/dist-packages (from fastai==0.7.0) (5.5.0)\n",
            "Requirement already satisfied: ipython-genutils in /usr/local/lib/python3.6/dist-packages (from fastai==0.7.0) (0.2.0)\n",
            "Collecting ipywidgets (from fastai==0.7.0)\n",
            "\u001b[?25l  Downloading https://files.pythonhosted.org/packages/ea/c5/0482342559f0fd24909572fe00bb59b2bae98b22d90aac7950f51a98f555/ipywidgets-7.4.1-py2.py3-none-any.whl (110kB)\n",
            "\u001b[K    100% |████████████████████████████████| 112kB 9.8MB/s \n",
            "\u001b[?25hCollecting isoweek (from fastai==0.7.0)\n",
            "  Downloading https://files.pythonhosted.org/packages/c2/d4/fe7e2637975c476734fcbf53776e650a29680194eb0dd21dbdc020ca92de/isoweek-1.3.3-py2.py3-none-any.whl\n",
            "Collecting jedi (from fastai==0.7.0)\n",
            "\u001b[?25l  Downloading https://files.pythonhosted.org/packages/3d/68/8bbf0ef969095a13ba0d4c77c1945bd86e9811960d052510551d29a2f23b/jedi-0.12.1-py2.py3-none-any.whl (174kB)\n",
            "\u001b[K    100% |████████████████████████████████| 184kB 10.0MB/s \n",
            "\u001b[?25hRequirement already satisfied: Jinja2 in /usr/local/lib/python3.6/dist-packages (from fastai==0.7.0) (2.10)\n",
            "Requirement already satisfied: jsonschema in /usr/local/lib/python3.6/dist-packages (from fastai==0.7.0) (2.6.0)\n",
            "Collecting jupyter (from fastai==0.7.0)\n",
            "  Downloading https://files.pythonhosted.org/packages/83/df/0f5dd132200728a86190397e1ea87cd76244e42d39ec5e88efd25b2abd7e/jupyter-1.0.0-py2.py3-none-any.whl\n",
            "Requirement already satisfied: MarkupSafe in /usr/local/lib/python3.6/dist-packages (from fastai==0.7.0) (1.0)\n",
            "Requirement already satisfied: matplotlib in /usr/local/lib/python3.6/dist-packages (from fastai==0.7.0) (2.1.2)\n",
            "Requirement already satisfied: numpy in /usr/local/lib/python3.6/dist-packages (from fastai==0.7.0) (1.14.5)\n",
            "Requirement already satisfied: opencv-python in /usr/local/lib/python3.6/dist-packages (from fastai==0.7.0) (3.4.3.18)\n",
            "Requirement already satisfied: pandas in /usr/local/lib/python3.6/dist-packages (from fastai==0.7.0) (0.22.0)\n",
            "Collecting pandas_summary (from fastai==0.7.0)\n",
            "  Downloading https://files.pythonhosted.org/packages/97/55/ea54109a4e7a8e7342bdf23e9382c858224263d984b0d95610568e564f59/pandas_summary-0.0.5-py2.py3-none-any.whl\n",
            "Requirement already satisfied: pickleshare in /usr/local/lib/python3.6/dist-packages (from fastai==0.7.0) (0.7.4)\n",
            "Requirement already satisfied: Pillow in /usr/local/lib/python3.6/dist-packages (from fastai==0.7.0) (4.0.0)\n",
            "Collecting plotnine (from fastai==0.7.0)\n",
            "\u001b[?25l  Downloading https://files.pythonhosted.org/packages/fe/49/7af942bc63277dfca6ad397415f4cff60789c56d173b1f7edf0bd30e27e0/plotnine-0.4.0-py2.py3-none-any.whl (3.6MB)\n",
            "\u001b[K    100% |████████████████████████████████| 3.6MB 5.1MB/s \n",
            "\u001b[?25hRequirement already satisfied: ptyprocess in /usr/local/lib/python3.6/dist-packages (from fastai==0.7.0) (0.6.0)\n",
            "Requirement already satisfied: Pygments in /usr/local/lib/python3.6/dist-packages (from fastai==0.7.0) (2.1.3)\n",
            "Requirement already satisfied: pyparsing in /usr/local/lib/python3.6/dist-packages (from fastai==0.7.0) (2.2.0)\n",
            "Requirement already satisfied: python-dateutil in /usr/local/lib/python3.6/dist-packages (from fastai==0.7.0) (2.5.3)\n",
            "Requirement already satisfied: pytz in /usr/local/lib/python3.6/dist-packages (from fastai==0.7.0) (2018.5)\n",
            "Requirement already satisfied: PyYAML in /usr/local/lib/python3.6/dist-packages (from fastai==0.7.0) (3.13)\n",
            "Requirement already satisfied: pyzmq in /usr/local/lib/python3.6/dist-packages (from fastai==0.7.0) (16.0.4)\n",
            "Requirement already satisfied: scipy in /usr/local/lib/python3.6/dist-packages (from fastai==0.7.0) (0.19.1)\n",
            "Requirement already satisfied: seaborn in /usr/local/lib/python3.6/dist-packages (from fastai==0.7.0) (0.7.1)\n",
            "Requirement already satisfied: simplegeneric in /usr/local/lib/python3.6/dist-packages (from fastai==0.7.0) (0.8.1)\n",
            "Collecting sklearn_pandas (from fastai==0.7.0)\n",
            "  Downloading https://files.pythonhosted.org/packages/7e/9c/c94f46b40b86d2c77c46c4c1b858fc66c117b4390665eca28f2e0812db45/sklearn_pandas-1.7.0-py2.py3-none-any.whl\n",
            "Requirement already satisfied: spacy in /usr/local/lib/python3.6/dist-packages (from fastai==0.7.0) (2.0.12)\n",
            "Requirement already satisfied: testpath in /usr/local/lib/python3.6/dist-packages (from fastai==0.7.0) (0.3.1)\n",
            "Collecting torch<0.4 (from fastai==0.7.0)\n",
            "\u001b[?25l  Downloading https://files.pythonhosted.org/packages/5b/a5/e8b50b55b1abac9f1e3346c4242f1e42a82d368a8442cbd50c532922f6c4/torch-0.3.1-cp36-cp36m-manylinux1_x86_64.whl (496.4MB)\n",
            "\u001b[K    100% |████████████████████████████████| 496.4MB 37kB/s \n",
            "\u001b[?25hCollecting torchtext (from fastai==0.7.0)\n",
            "\u001b[?25l  Downloading https://files.pythonhosted.org/packages/78/90/474d5944d43001a6e72b9aaed5c3e4f77516fbef2317002da2096fd8b5ea/torchtext-0.2.3.tar.gz (42kB)\n",
            "\u001b[K    100% |████████████████████████████████| 51kB 19.6MB/s \n",
            "\u001b[?25hCollecting torchvision (from fastai==0.7.0)\n",
            "\u001b[?25l  Downloading https://files.pythonhosted.org/packages/ca/0d/f00b2885711e08bd71242ebe7b96561e6f6d01fdb4b9dcf4d37e2e13c5e1/torchvision-0.2.1-py2.py3-none-any.whl (54kB)\n",
            "\u001b[K    100% |████████████████████████████████| 61kB 20.5MB/s \n",
            "\u001b[?25hRequirement already satisfied: tornado in /usr/local/lib/python3.6/dist-packages (from fastai==0.7.0) (4.5.3)\n",
            "Requirement already satisfied: tqdm in /usr/local/lib/python3.6/dist-packages (from fastai==0.7.0) (4.25.0)\n",
            "Requirement already satisfied: traitlets in /usr/local/lib/python3.6/dist-packages (from fastai==0.7.0) (4.3.2)\n",
            "Requirement already satisfied: wcwidth in /usr/local/lib/python3.6/dist-packages (from fastai==0.7.0) (0.1.7)\n",
            "Requirement already satisfied: webencodings in /usr/local/lib/python3.6/dist-packages (from fastai==0.7.0) (0.5.1)\n",
            "Collecting widgetsnbextension (from fastai==0.7.0)\n",
            "\u001b[?25l  Downloading https://files.pythonhosted.org/packages/3c/9a/9a690e18e335fc4470a2fa38163774940159375798ba6cce043d5cd94bae/widgetsnbextension-3.4.1-py2.py3-none-any.whl (2.2MB)\n",
            "\u001b[K    100% |████████████████████████████████| 2.2MB 1.4MB/s \n",
            "\u001b[?25hRequirement already satisfied: six in /usr/local/lib/python3.6/dist-packages (from bleach->fastai==0.7.0) (1.11.0)\n",
            "Collecting pyarrow>=0.4.0 (from feather-format->fastai==0.7.0)\n",
            "\u001b[?25l  Downloading https://files.pythonhosted.org/packages/c9/b8/076ebd968f3c6d4e9b6e5de696f0b19964a3d4b7dc020fd32db4e868ad74/pyarrow-0.10.0-cp36-cp36m-manylinux1_x86_64.whl (11.6MB)\n",
            "\u001b[K    100% |████████████████████████████████| 11.6MB 1.8MB/s \n",
            "\u001b[?25hRequirement already satisfied: jupyter-client in /usr/local/lib/python3.6/dist-packages (from ipykernel->fastai==0.7.0) (5.2.3)\n",
            "Requirement already satisfied: setuptools>=18.5 in /usr/local/lib/python3.6/dist-packages (from ipython->fastai==0.7.0) (39.1.0)\n",
            "Requirement already satisfied: pexpect; sys_platform != \"win32\" in /usr/local/lib/python3.6/dist-packages (from ipython->fastai==0.7.0) (4.6.0)\n",
            "Requirement already satisfied: prompt-toolkit<2.0.0,>=1.0.4 in /usr/local/lib/python3.6/dist-packages (from ipython->fastai==0.7.0) (1.0.15)\n",
            "Requirement already satisfied: nbformat>=4.2.0 in /usr/local/lib/python3.6/dist-packages (from ipywidgets->fastai==0.7.0) (4.4.0)\n",
            "Collecting parso>=0.3.0 (from jedi->fastai==0.7.0)\n",
            "\u001b[?25l  Downloading https://files.pythonhosted.org/packages/09/51/9c48a46334be50c13d25a3afe55fa05c445699304c5ad32619de953a2305/parso-0.3.1-py2.py3-none-any.whl (88kB)\n",
            "\u001b[K    100% |████████████████████████████████| 92kB 24.6MB/s \n",
            "\u001b[?25hRequirement already satisfied: notebook in /usr/local/lib/python3.6/dist-packages (from jupyter->fastai==0.7.0) (5.2.2)\n",
            "Requirement already satisfied: nbconvert in /usr/local/lib/python3.6/dist-packages (from jupyter->fastai==0.7.0) (5.4.0)\n",
            "Collecting qtconsole (from jupyter->fastai==0.7.0)\n",
            "\u001b[?25l  Downloading https://files.pythonhosted.org/packages/ff/1f/b340d52dee46fbbe8a097dce76d1197258bb599692159d94c80921fef9eb/qtconsole-4.4.1-py2.py3-none-any.whl (112kB)\n",
            "\u001b[K    100% |████████████████████████████████| 112kB 27.8MB/s \n",
            "\u001b[?25hCollecting jupyter-console (from jupyter->fastai==0.7.0)\n",
            "  Downloading https://files.pythonhosted.org/packages/77/82/6469cd7fccf7958cbe5dce2e623f1e3c5e27f1bb1ad36d90519bc2d5d370/jupyter_console-5.2.0-py2.py3-none-any.whl\n",
            "Requirement already satisfied: olefile in /usr/local/lib/python3.6/dist-packages (from Pillow->fastai==0.7.0) (0.45.1)\n",
            "Requirement already satisfied: patsy>=0.4.1 in /usr/local/lib/python3.6/dist-packages (from plotnine->fastai==0.7.0) (0.5.0)\n",
            "Collecting descartes>=1.1.0 (from plotnine->fastai==0.7.0)\n",
            "  Downloading https://files.pythonhosted.org/packages/e5/b6/1ed2eb03989ae574584664985367ba70cd9cf8b32ee8cad0e8aaeac819f3/descartes-1.1.0-py3-none-any.whl\n",
            "Collecting mizani>=0.4.5 (from plotnine->fastai==0.7.0)\n",
            "\u001b[?25l  Downloading https://files.pythonhosted.org/packages/52/01/8a3b4c6e45749674a1e5241174b4b63cd6435125e124bec275f3e02c96ac/mizani-0.4.6-py2.py3-none-any.whl (65kB)\n",
            "\u001b[K    100% |████████████████████████████████| 71kB 21.8MB/s \n",
            "\u001b[?25hCollecting geopandas>=0.3.0 (from plotnine->fastai==0.7.0)\n",
            "\u001b[?25l  Downloading https://files.pythonhosted.org/packages/24/11/d77c157c16909bd77557d00798b05a5b6615ed60acb5900fbe6a65d35e93/geopandas-0.4.0-py2.py3-none-any.whl (899kB)\n",
            "\u001b[K    100% |████████████████████████████████| 901kB 2.1MB/s \n",
            "\u001b[?25hRequirement already satisfied: statsmodels>=0.8.0 in /usr/local/lib/python3.6/dist-packages (from plotnine->fastai==0.7.0) (0.8.0)\n",
            "Requirement already satisfied: scikit-learn>=0.15.0 in /usr/local/lib/python3.6/dist-packages (from sklearn_pandas->fastai==0.7.0) (0.19.2)\n",
            "Requirement already satisfied: murmurhash<0.29,>=0.28 in /usr/local/lib/python3.6/dist-packages (from spacy->fastai==0.7.0) (0.28.0)\n",
            "Requirement already satisfied: cymem<1.32,>=1.30 in /usr/local/lib/python3.6/dist-packages (from spacy->fastai==0.7.0) (1.31.2)\n",
            "Requirement already satisfied: preshed<2.0.0,>=1.0.0 in /usr/local/lib/python3.6/dist-packages (from spacy->fastai==0.7.0) (1.0.1)\n",
            "Requirement already satisfied: thinc<6.11.0,>=6.10.3 in /usr/local/lib/python3.6/dist-packages (from spacy->fastai==0.7.0) (6.10.3)\n",
            "Requirement already satisfied: plac<1.0.0,>=0.9.6 in /usr/local/lib/python3.6/dist-packages (from spacy->fastai==0.7.0) (0.9.6)\n",
            "Requirement already satisfied: ujson>=1.35 in /usr/local/lib/python3.6/dist-packages (from spacy->fastai==0.7.0) (1.35)\n",
            "Requirement already satisfied: dill<0.3,>=0.2 in /usr/local/lib/python3.6/dist-packages (from spacy->fastai==0.7.0) (0.2.8.2)\n",
            "Requirement already satisfied: regex==2017.4.5 in /usr/local/lib/python3.6/dist-packages (from spacy->fastai==0.7.0) (2017.4.5)\n",
            "Requirement already satisfied: requests<3.0.0,>=2.13.0 in /usr/local/lib/python3.6/dist-packages (from spacy->fastai==0.7.0) (2.18.4)\n",
            "Requirement already satisfied: jupyter-core in /usr/local/lib/python3.6/dist-packages (from jupyter-client->ipykernel->fastai==0.7.0) (4.4.0)\n",
            "Requirement already satisfied: terminado>=0.3.3; sys_platform != \"win32\" in /usr/local/lib/python3.6/dist-packages (from notebook->jupyter->fastai==0.7.0) (0.8.1)\n",
            "Requirement already satisfied: pandocfilters>=1.4.1 in /usr/local/lib/python3.6/dist-packages (from nbconvert->jupyter->fastai==0.7.0) (1.4.2)\n",
            "Requirement already satisfied: mistune>=0.8.1 in /usr/local/lib/python3.6/dist-packages (from nbconvert->jupyter->fastai==0.7.0) (0.8.3)\n",
            "Requirement already satisfied: defusedxml in /usr/local/lib/python3.6/dist-packages (from nbconvert->jupyter->fastai==0.7.0) (0.5.0)\n",
            "Collecting palettable (from mizani>=0.4.5->plotnine->fastai==0.7.0)\n",
            "\u001b[?25l  Downloading https://files.pythonhosted.org/packages/56/8a/84537c0354f0d1f03bf644b71bf8e0a50db9c1294181905721a5f3efbf66/palettable-3.1.1-py2.py3-none-any.whl (77kB)\n",
            "\u001b[K    100% |████████████████████████████████| 81kB 24.8MB/s \n",
            "\u001b[?25hCollecting shapely (from geopandas>=0.3.0->plotnine->fastai==0.7.0)\n",
            "\u001b[?25l  Downloading https://files.pythonhosted.org/packages/38/b6/b53f19062afd49bb5abd049aeed36f13bf8d57ef8f3fa07a5203531a0252/Shapely-1.6.4.post2-cp36-cp36m-manylinux1_x86_64.whl (1.5MB)\n",
            "\u001b[K    100% |████████████████████████████████| 1.5MB 4.8MB/s \n",
            "\u001b[?25hCollecting fiona (from geopandas>=0.3.0->plotnine->fastai==0.7.0)\n",
            "\u001b[?25l  Downloading https://files.pythonhosted.org/packages/e3/bf/029958f4e3811ce7017fb5805d5203e8bde6c1816b902964acb2dec67863/Fiona-1.7.13-cp36-cp36m-manylinux1_x86_64.whl (15.8MB)\n",
            "\u001b[K    100% |████████████████████████████████| 15.8MB 2.0MB/s \n",
            "\u001b[?25hCollecting pyproj (from geopandas>=0.3.0->plotnine->fastai==0.7.0)\n",
            "\u001b[?25l  Downloading https://files.pythonhosted.org/packages/29/72/5c1888c4948a0c7b736d10e0f0f69966e7c0874a660222ed0a2c2c6daa9f/pyproj-1.9.5.1.tar.gz (4.4MB)\n",
            "\u001b[K    100% |████████████████████████████████| 4.4MB 2.4MB/s \n",
            "\u001b[?25hRequirement already satisfied: msgpack<1.0.0,>=0.5.6 in /usr/local/lib/python3.6/dist-packages (from thinc<6.11.0,>=6.10.3->spacy->fastai==0.7.0) (0.5.6)\n",
            "Requirement already satisfied: msgpack-numpy<1.0.0,>=0.4.1 in /usr/local/lib/python3.6/dist-packages (from thinc<6.11.0,>=6.10.3->spacy->fastai==0.7.0) (0.4.3.1)\n",
            "Requirement already satisfied: cytoolz<0.10,>=0.9.0 in /usr/local/lib/python3.6/dist-packages (from thinc<6.11.0,>=6.10.3->spacy->fastai==0.7.0) (0.9.0.1)\n",
            "Requirement already satisfied: wrapt<1.11.0,>=1.10.0 in /usr/local/lib/python3.6/dist-packages (from thinc<6.11.0,>=6.10.3->spacy->fastai==0.7.0) (1.10.11)\n",
            "Requirement already satisfied: chardet<3.1.0,>=3.0.2 in /usr/local/lib/python3.6/dist-packages (from requests<3.0.0,>=2.13.0->spacy->fastai==0.7.0) (3.0.4)\n",
            "Requirement already satisfied: idna<2.7,>=2.5 in /usr/local/lib/python3.6/dist-packages (from requests<3.0.0,>=2.13.0->spacy->fastai==0.7.0) (2.6)\n",
            "Requirement already satisfied: urllib3<1.23,>=1.21.1 in /usr/local/lib/python3.6/dist-packages (from requests<3.0.0,>=2.13.0->spacy->fastai==0.7.0) (1.22)\n",
            "Collecting cligj>=0.4 (from fiona->geopandas>=0.3.0->plotnine->fastai==0.7.0)\n",
            "  Downloading https://files.pythonhosted.org/packages/fc/05/e8384e1f7c8689cd1b91818a24cc860077c73368fb285ba53fbd8556ec98/cligj-0.4.0-py3-none-any.whl\n",
            "Collecting munch (from fiona->geopandas>=0.3.0->plotnine->fastai==0.7.0)\n",
            "  Downloading https://files.pythonhosted.org/packages/68/f4/260ec98ea840757a0da09e0ed8135333d59b8dfebe9752a365b04857660a/munch-2.3.2.tar.gz\n",
            "Collecting click-plugins (from fiona->geopandas>=0.3.0->plotnine->fastai==0.7.0)\n",
            "  Downloading https://files.pythonhosted.org/packages/77/05/da5c9e19457f20cadfe22c397cd3852577066066f63e40f2baa0831b1693/click-plugins-1.0.3.tar.gz\n",
            "Requirement already satisfied: toolz>=0.8.0 in /usr/local/lib/python3.6/dist-packages (from cytoolz<0.10,>=0.9.0->thinc<6.11.0,>=6.10.3->spacy->fastai==0.7.0) (0.9.0)\n",
            "Collecting click>=4.0 (from cligj>=0.4->fiona->geopandas>=0.3.0->plotnine->fastai==0.7.0)\n",
            "\u001b[?25l  Downloading https://files.pythonhosted.org/packages/34/c1/8806f99713ddb993c5366c362b2f908f18269f8d792aff1abfd700775a77/click-6.7-py2.py3-none-any.whl (71kB)\n",
            "\u001b[K    100% |████████████████████████████████| 71kB 20.5MB/s \n",
            "\u001b[?25hBuilding wheels for collected packages: fastai, bcolz, feather-format, torchtext, pyproj, munch, click-plugins\n",
            "  Running setup.py bdist_wheel for fastai ... \u001b[?25l-\b \b\\\b \bdone\n",
            "\u001b[?25h  Stored in directory: /tmp/pip-ephem-wheel-cache-muo45_7l/wheels/cf/46/39/b2d08762125ed2376861976ab2c4ac30c029b86e375735d9b8\n",
            "  Running setup.py bdist_wheel for bcolz ... \u001b[?25l-\b \b\\\b \b|\b \b/\b \b-\b \b\\\b \b|\b \b/\b \b-\b \b\\\b \b|\b \b/\b \b-\b \b\\\b \b|\b \b/\b \b-\b \b\\\b \b|\b \b/\b \b-\b \b\\\b \b|\b \b/\b \b-\b \b\\\b \b|\b \b/\b \b-\b \b\\\b \b|\b \b/\b \b-\b \b\\\b \b|\b \b/\b \b-\b \b\\\b \b|\b \b/\b \b-\b \b\\\b \b|\b \b/\b \b-\b \b\\\b \b|\b \b/\b \b-\b \b\\\b \b|\b \b/\b \b-\b \b\\\b \b|\b \b/\b \b-\b \b\\\b \b|\b \b/\b \b-\b \bdone\n",
            "\u001b[?25h  Stored in directory: /root/.cache/pip/wheels/9f/78/26/fb8c0acb91a100dc8914bf236c4eaa4b207cb876893c40b745\n",
            "  Running setup.py bdist_wheel for feather-format ... \u001b[?25l-\b \b\\\b \bdone\n",
            "\u001b[?25h  Stored in directory: /root/.cache/pip/wheels/85/7d/12/2dfa5c0195f921ac935f5e8f27deada74972edc0ae9988a9c1\n",
            "  Running setup.py bdist_wheel for torchtext ... \u001b[?25l-\b \b\\\b \bdone\n",
            "\u001b[?25h  Stored in directory: /root/.cache/pip/wheels/42/a6/f4/b267328bde6bb680094a0c173e8e5627ccc99543abded97204\n",
            "  Running setup.py bdist_wheel for pyproj ... \u001b[?25l-\b \b\\\b \b|\b \b/\b \b-\b \b\\\b \b|\b \b/\b \b-\b \b\\\b \b|\b \b/\b \b-\b \b\\\b \b|\b \b/\b \b-\b \b\\\b \b|\b \b/\b \b-\b \b\\\b \b|\b \b/\b \b-\b \b\\\b \b|\b \b/\b \b-\b \b\\\b \b|\b \b/\b \b-\b \b\\\b \b|\b \b/\b \b-\b \b\\\b \b|\b \b/\b \b-\b \b\\\b \b|\b \b/\b \b-\b \b\\\b \b|\b \b/\b \b-\b \b\\\b \b|\b \b/\b \b-\b \b\\\b \b|\b \b/\b \b-\b \b\\\b \b|\b \b/\b \b-\b \b\\\b \b|\b \b/\b \b-\b \b\\\b \b|\b \b/\b \b-\b \b\\\b \b|\b \b/\b \b-\b \b\\\b \b|\b \b/\b \b-\b \b\\\b \b|\b \b/\b \b-\b \b\\\b \b|\b \b/\b \b-\b \b\\\b \b|\b \b/\b \b-\b \b\\\b \b|\b \b/\b \b-\b \b\\\b \b|\b \b/\b \b-\b \b\\\b \b|\b \b/\b \b-\b \b\\\b \b|\b \b/\b \b-\b \b\\\b \b|\b \b/\b \b-\b \b\\\b \b|\b \b/\b \b-\b \b\\\b \b|\b \b/\b \b-\b \b\\\b \b|\b \b/\b \b-\b \b\\\b \b|\b \b/\b \b-\b \b\\\b \b|\b \b/\b \b-\b \b\\\b \b|\b \bdone\n",
            "\u001b[?25h  Stored in directory: /root/.cache/pip/wheels/89/77/ec/a537585d1022dafde0317dd19d33c4a30d4ee61e19f25ebd8e\n",
            "  Running setup.py bdist_wheel for munch ... \u001b[?25l-\b \bdone\n",
            "\u001b[?25h  Stored in directory: /root/.cache/pip/wheels/db/bf/bc/06a3e1bfe0ab27d2e720ceb3cff3159398d92644c0cec2c125\n",
            "  Running setup.py bdist_wheel for click-plugins ... \u001b[?25l-\b \bdone\n",
            "\u001b[?25h  Stored in directory: /root/.cache/pip/wheels/bc/86/aa/7680e54728998edc1e966a20249b920e582012ed6bdd3815c4\n",
            "Successfully built fastai bcolz feather-format torchtext pyproj munch click-plugins\n",
            "\u001b[31mplotnine 0.4.0 has requirement scipy>=1.0.0, but you'll have scipy 0.19.1 which is incompatible.\u001b[0m\n",
            "\u001b[31mtorchvision 0.2.1 has requirement pillow>=4.1.1, but you'll have pillow 4.0.0 which is incompatible.\u001b[0m\n",
            "Installing collected packages: bcolz, pyarrow, feather-format, graphviz, widgetsnbextension, ipywidgets, isoweek, parso, jedi, qtconsole, jupyter-console, jupyter, pandas-summary, descartes, palettable, mizani, shapely, click, cligj, munch, click-plugins, fiona, pyproj, geopandas, plotnine, sklearn-pandas, torch, torchtext, torchvision, fastai\n",
            "Successfully installed bcolz-1.2.1 click-6.7 click-plugins-1.0.3 cligj-0.4.0 descartes-1.1.0 fastai-0.7.0 feather-format-0.4.0 fiona-1.7.13 geopandas-0.4.0 graphviz-0.9 ipywidgets-7.4.1 isoweek-1.3.3 jedi-0.12.1 jupyter-1.0.0 jupyter-console-5.2.0 mizani-0.4.6 munch-2.3.2 palettable-3.1.1 pandas-summary-0.0.5 parso-0.3.1 plotnine-0.4.0 pyarrow-0.10.0 pyproj-1.9.5.1 qtconsole-4.4.1 shapely-1.6.4.post2 sklearn-pandas-1.7.0 torch-0.3.1 torchtext-0.2.3 torchvision-0.2.1 widgetsnbextension-3.4.1\n",
            "Requirement already satisfied: torch==0.3.1 from http://download.pytorch.org/whl/cu80/torch-0.3.1-cp36-cp36m-linux_x86_64.whl in /usr/local/lib/python3.6/dist-packages (0.3.1)\n",
            "Requirement already satisfied: numpy in /usr/local/lib/python3.6/dist-packages (from torch==0.3.1) (1.14.5)\n",
            "Requirement already satisfied: pyyaml in /usr/local/lib/python3.6/dist-packages (from torch==0.3.1) (3.13)\n",
            "Requirement already satisfied: torchvision in /usr/local/lib/python3.6/dist-packages (0.2.1)\n",
            "Requirement already satisfied: six in /usr/local/lib/python3.6/dist-packages (from torchvision) (1.11.0)\n",
            "Collecting pillow>=4.1.1 (from torchvision)\n",
            "\u001b[?25l  Downloading https://files.pythonhosted.org/packages/d1/24/f53ff6b61b3d728b90934bddb4f03f8ab584a7f49299bf3bde56e2952612/Pillow-5.2.0-cp36-cp36m-manylinux1_x86_64.whl (2.0MB)\n",
            "\u001b[K    100% |████████████████████████████████| 2.0MB 7.6MB/s \n",
            "\u001b[?25hRequirement already satisfied: numpy in /usr/local/lib/python3.6/dist-packages (from torchvision) (1.14.5)\n",
            "Requirement already satisfied: torch in /usr/local/lib/python3.6/dist-packages (from torchvision) (0.3.1)\n",
            "Requirement already satisfied: pyyaml in /usr/local/lib/python3.6/dist-packages (from torch->torchvision) (3.13)\n",
            "Installing collected packages: pillow\n",
            "  Found existing installation: Pillow 4.0.0\n",
            "    Uninstalling Pillow-4.0.0:\n",
            "      Successfully uninstalled Pillow-4.0.0\n",
            "Successfully installed pillow-5.2.0\n"
          ],
          "name": "stdout"
        }
      ]
    },
    {
      "metadata": {
        "id": "McsEQQI5Dfq5",
        "colab_type": "text"
      },
      "cell_type": "markdown",
      "source": [
        "# Import the datasets"
      ]
    },
    {
      "metadata": {
        "id": "4OKW-CJfPAKd",
        "colab_type": "code",
        "colab": {}
      },
      "cell_type": "code",
      "source": [
        "%matplotlib inline\n",
        "%reload_ext autoreload\n",
        "%autoreload 2\n",
        "\n",
        "from fastai.structured import *\n",
        "from fastai.column_data import *"
      ],
      "execution_count": 0,
      "outputs": []
    },
    {
      "metadata": {
        "id": "Ra8oBhiqDeup",
        "colab_type": "code",
        "colab": {}
      },
      "cell_type": "code",
      "source": [
        "import pandas as pd \n",
        "import os\n",
        "\n",
        "import matplotlib.pylab as plt\n",
        "import numpy as np\n",
        "%matplotlib inline\n",
        "\n",
        "TRAIN_PATH = './train.csv'\n",
        "TEST_PATH = './test.csv'"
      ],
      "execution_count": 0,
      "outputs": []
    },
    {
      "metadata": {
        "id": "N5e12UGhNTEm",
        "colab_type": "code",
        "colab": {}
      },
      "cell_type": "code",
      "source": [
        "# To reproduce the value in the next time\n",
        "#manual_seed = 555\n",
        "#random.seed(manual_seed)\n",
        "#np.random.seed(manual_seed)\n",
        "#torch.manual_seed(manual_seed)\n",
        "#torch.cuda.manual_seed_all(manual_seed)\n",
        "torch.backends.cudnn.deterministic = True\n",
        "torch.set_default_tensor_type('torch.cuda.FloatTensor')\n",
        "torch.cuda.current_device()\n",
        "torch.cuda.device(0)\n",
        "torch.cuda.device_count()\n",
        "torch.cuda.get_device_name(0)\n",
        "torch.cuda.is_available()\n",
        "torch.cuda.set_device(0)"
      ],
      "execution_count": 0,
      "outputs": []
    },
    {
      "metadata": {
        "id": "GUIO246W_wjb",
        "colab_type": "code",
        "colab": {}
      },
      "cell_type": "code",
      "source": [
        "# For this plot and further analysis, we need a function to calculate the distance in miles between locations in lon,lat coordinates.\n",
        "# This function is based on https://stackoverflow.com/questions/27928/\n",
        "# calculate-distance-between-two-latitude-longitude-points-haversine-formula \n",
        "# return distance in miles\n",
        "def distance(lat1, lon1, lat2, lon2):\n",
        "    p = 0.017453292519943295 # Pi/180\n",
        "    a = 0.5 - np.cos((lat2 - lat1) * p)/2 + np.cos(lat1 * p) * np.cos(lat2 * p) * (1 - np.cos((lon2 - lon1) * p)) / 2\n",
        "    return 0.6213712 * 12742 * np.arcsin(np.sqrt(a)) # 2*R*asin...\n",
        "\n",
        "def add_time(df):\n",
        "    # add time information\n",
        "    df['year'] = df.pickup_datetime.apply(lambda t: t.year)\n",
        "    df['weekday'] = df.pickup_datetime.apply(lambda t: t.weekday())\n",
        "    df['hour'] = df.pickup_datetime.apply(lambda t: t.hour)\n",
        "\n",
        "def add_travel_vector_features(df):\n",
        "    # add new column to dataframe with distance in miles\n",
        "    df['distance_miles'] = distance(df.pickup_latitude, df.pickup_longitude, \\\n",
        "                                          df.dropoff_latitude, df.dropoff_longitude)\n",
        "    #df['abs_diff_longitude'] = (df.dropoff_longitude - df.pickup_longitude).abs()\n",
        "    #df['abs_diff_latitude'] = (df.dropoff_latitude - df.pickup_latitude).abs()\n",
        "    #df['abs_diff_lon_lat'] = (df.abs_diff_longitude + df.abs_diff_latitude)\n",
        "\n",
        "def add_airport_dist(df):\n",
        "    \"\"\"\n",
        "    Return minumum distance from pickup or dropoff coordinates to each airport.\n",
        "    JFK: John F. Kennedy International Airport\n",
        "    EWR: Newark Liberty International Airport\n",
        "    LGA: LaGuardia Airport\n",
        "    \"\"\"\n",
        "    jfk_coord = (40.639722, -73.778889)\n",
        "    ewr_coord = (40.6925, -74.168611)\n",
        "    lga_coord = (40.77725, -73.872611)\n",
        "    \n",
        "    pickup_lat = df['pickup_latitude']\n",
        "    dropoff_lat = df['dropoff_latitude']\n",
        "    pickup_lon = df['pickup_longitude']\n",
        "    dropoff_lon = df['dropoff_longitude']\n",
        "    \n",
        "    pickup_jfk = distance(pickup_lat, pickup_lon, jfk_coord[0], jfk_coord[1]) \n",
        "    dropoff_jfk = distance(jfk_coord[0], jfk_coord[1], dropoff_lat, dropoff_lon) \n",
        "    pickup_ewr = distance(pickup_lat, pickup_lon, ewr_coord[0], ewr_coord[1])\n",
        "    dropoff_ewr = distance(ewr_coord[0], ewr_coord[1], dropoff_lat, dropoff_lon) \n",
        "    pickup_lga = distance(pickup_lat, pickup_lon, lga_coord[0], lga_coord[1]) \n",
        "    dropoff_lga = distance(lga_coord[0], lga_coord[1], dropoff_lat, dropoff_lon) \n",
        "    \n",
        "    df['jfk_dist'] = pd.concat([pickup_jfk, dropoff_jfk], axis=1).min(axis=1)\n",
        "    df['ewr_dist'] = pd.concat([pickup_ewr, dropoff_ewr], axis=1).min(axis=1)\n",
        "    df['lga_dist'] = pd.concat([pickup_lga, dropoff_lga], axis=1).min(axis=1)\n",
        "\n",
        "def add_features(df):\n",
        "    add_time(df)\n",
        "    add_travel_vector_features(df)\n",
        "    add_airport_dist(df)\n",
        "    \n",
        "    return df\n",
        "\n",
        "def drop_date(df):\n",
        "    df = df.drop(['key', 'pickup_datetime'], axis=1)\n",
        "    return df\n",
        "\n",
        "\n",
        "def clean_df(df):\n",
        "    print('Old size: %d' % len(df))\n",
        "    \n",
        "    # Remove observations with missing values\n",
        "    df.dropna(how='any', axis='rows', inplace=True)\n",
        "\n",
        "    # Removing observations with erroneous values\n",
        "    mask = df['pickup_longitude'].between(-75, -73)\n",
        "    mask &= df['dropoff_longitude'].between(-75, -73)\n",
        "    mask &= df['pickup_latitude'].between(40, 42)\n",
        "    mask &= df['dropoff_latitude'].between(40, 42)\n",
        "    mask &= df['passenger_count'].between(0, 6)\n",
        "    mask &= df['fare_amount'].between(0, 250)\n",
        "    mask &= df['distance_miles'].between(0.05, 100)\n",
        "\n",
        "    df = df[mask]\n",
        "    \n",
        "    print('New size: %d' % len(df))\n",
        "    \n",
        "    return df\n",
        "  \n",
        "def simplify(df):\n",
        "    df.pickup_longitude += 74\n",
        "    df.pickup_longitude *= 100\n",
        "    df.pickup_latitude -= 40\n",
        "    df.pickup_latitude *= 100\n",
        "\n",
        "    df.dropoff_longitude += 74\n",
        "    df.dropoff_longitude *= 100\n",
        "    df.dropoff_latitude -= 40\n",
        "    df.dropoff_latitude *= 100\n",
        "\n",
        "    df.pickup_longitude = round(df.pickup_longitude, 0)\n",
        "    df.pickup_latitude = round(df.pickup_latitude, 0)\n",
        "    df.dropoff_longitude = round(df.dropoff_longitude, 0)\n",
        "    df.dropoff_latitude = round(df.dropoff_latitude, 0)\n",
        "\n",
        "    df.distance_miles = round(df.distance_miles, 1)\n",
        "    df.jfk_dist = round(df.jfk_dist, 1)\n",
        "    df.ewr_dist = round(df.ewr_dist, 1)\n",
        "    df.lga_dist = round(df.lga_dist, 1)\n",
        "\n",
        "    df.abs_diff_longitude = round(df.abs_diff_longitude, 3)\n",
        "    df.abs_diff_latitude = round(df.abs_diff_latitude, 3)\n",
        "    df.abs_diff_lon_lat = round(df.abs_diff_lon_lat, 3)\n",
        "    \n",
        "    return df"
      ],
      "execution_count": 0,
      "outputs": []
    },
    {
      "metadata": {
        "id": "e_1Au9gx__At",
        "colab_type": "code",
        "colab": {}
      },
      "cell_type": "code",
      "source": [
        "def mem_usage(pandas_obj):\n",
        "    if isinstance(pandas_obj,pd.DataFrame):\n",
        "        usage_b = pandas_obj.memory_usage(deep=True).sum()\n",
        "    else: # we assume if not a df it's a series\n",
        "        usage_b = pandas_obj.memory_usage(deep=True)\n",
        "    usage_mb = usage_b / 1024 ** 2 # convert bytes to megabytes\n",
        "    return \"{:03.2f} MB\".format(usage_mb)\n",
        "\n",
        "#\n",
        "\n",
        "def shrink(df):\n",
        "    df_float = df.select_dtypes(include=['float64'])\n",
        "    converted_float = df.apply(pd.to_numeric,downcast='float')\n",
        "\n",
        "    #print(mem_usage(df_float))\n",
        "    #print(mem_usage(converted_float))\n",
        "\n",
        "    compare_floats = pd.concat([df_float.dtypes,converted_float.dtypes],axis=1)\n",
        "    compare_floats.apply(pd.Series.value_counts)\n",
        "\n",
        "    #\n",
        "\n",
        "    '''df_int = df.select_dtypes(include=['int64'])\n",
        "    converted_int = df.apply(pd.to_numeric,downcast='integer')\n",
        "\n",
        "    print(mem_usage(df_int))\n",
        "    print(mem_usage(converted_int))\n",
        "\n",
        "    compare_ints = pd.concat([df.dtypes,converted_int.dtypes],axis=1)\n",
        "    compare_ints.apply(pd.Series.value_counts)'''\n",
        "\n",
        "    #\n",
        "\n",
        "    df[converted_float.columns] = converted_float\n",
        "    #df[converted_int.columns] = converted_int"
      ],
      "execution_count": 0,
      "outputs": []
    },
    {
      "metadata": {
        "id": "5Zs3hVVDNeZU",
        "colab_type": "code",
        "colab": {}
      },
      "cell_type": "code",
      "source": [
        "%%time\n",
        "\n",
        "# Set columns to most suitable type to optimize for memory usage\n",
        "traintypes = {'fare_amount': 'float32',\n",
        "              'pickup_datetime': 'str', \n",
        "              'pickup_longitude': 'float64',\n",
        "              'pickup_latitude': 'float64',\n",
        "              'dropoff_longitude': 'float64',\n",
        "              'dropoff_latitude': 'float64',\n",
        "              'passenger_count': 'uint8'}\n",
        "\n",
        "cols = list(traintypes.keys())\n",
        "\n",
        "df_list = []\n",
        "df_chunk = pd.read_csv(TRAIN_PATH, usecols=cols, dtype=traintypes, nrows=10000000)\n",
        "df_chunk['pickup_datetime'] = df_chunk['pickup_datetime'].str.slice(0, 16)\n",
        "df_chunk['pickup_datetime'] = pd.to_datetime(df_chunk['pickup_datetime'], utc=True, format='%Y-%m-%d %H:%M')\n",
        "df_list.append(df_chunk) "
      ],
      "execution_count": 0,
      "outputs": []
    },
    {
      "metadata": {
        "id": "RRP6QEPA_zb9",
        "colab_type": "code",
        "colab": {
          "base_uri": "https://localhost:8080/",
          "height": 53
        },
        "outputId": "3b2455b3-1f62-4223-91c6-29fd34e53064"
      },
      "cell_type": "code",
      "source": [
        "%%time\n",
        "\n",
        "chunksize = 10_000_000 # 5 million rows at one go. Or try 10 million\n",
        "\n",
        "# Set columns to most suitable type to optimize for memory usage\n",
        "traintypes = {'fare_amount': 'float32',\n",
        "              'pickup_datetime': 'str', \n",
        "              'pickup_longitude': 'float64',\n",
        "              'pickup_latitude': 'float64',\n",
        "              'dropoff_longitude': 'float64',\n",
        "              'dropoff_latitude': 'float64',\n",
        "              'passenger_count': 'uint8'}\n",
        "\n",
        "cols = list(traintypes.keys())\n",
        "\n",
        "\n",
        "df_list = [] # list to hold the batch dataframe\n",
        "i=0\n",
        "\n",
        "for df_chunk in pd.read_csv(TRAIN_PATH, usecols=cols, dtype=traintypes, chunksize=chunksize):\n",
        "    \n",
        "    # Neat trick from https://www.kaggle.com/btyuhas/bayesian-optimization-with-xgboost\n",
        "    # Slicing off unnecessary components of the datetime and specifying the date \n",
        "    # format results in a MUCH more efficient conversion to a datetime object.\n",
        "    df_chunk['pickup_datetime'] = df_chunk['pickup_datetime'].str.slice(0, 16)\n",
        "    df_chunk['pickup_datetime'] = pd.to_datetime(df_chunk['pickup_datetime'], utc=True, format='%Y-%m-%d %H:%M')\n",
        "    \n",
        "    # Can process each chunk of dataframe here\n",
        "    #df_chunk = add_features(df_chunk)\n",
        "    #df_chunk = clean_df(df_chunk)\n",
        "    #shrink(df_chunk)\n",
        "    \n",
        "    # Alternatively, append the chunk to list and merge all\n",
        "    df_list.append(df_chunk) \n",
        "    \n",
        "# Merge all dataframes into one dataframe\n",
        "#df = pd.concat(df_list)\n",
        "\n",
        "# Delete the dataframe list to release memory\n",
        "#del df_list\n",
        "\n",
        "# See what we have loaded\n",
        "#df.info()"
      ],
      "execution_count": 11,
      "outputs": [
        {
          "output_type": "stream",
          "text": [
            "CPU times: user 2min 13s, sys: 9.9 s, total: 2min 23s\n",
            "Wall time: 2min 23s\n"
          ],
          "name": "stdout"
        }
      ]
    },
    {
      "metadata": {
        "id": "u1WxOXd2dmaa",
        "colab_type": "code",
        "colab": {}
      },
      "cell_type": "code",
      "source": [
        ""
      ],
      "execution_count": 0,
      "outputs": []
    },
    {
      "metadata": {
        "id": "viUlsg3a8PNe",
        "colab_type": "text"
      },
      "cell_type": "markdown",
      "source": [
        "# Pre-Process Data"
      ]
    },
    {
      "metadata": {
        "id": "y3bzMGf68RpK",
        "colab_type": "code",
        "colab": {
          "base_uri": "https://localhost:8080/",
          "height": 53
        },
        "outputId": "27b986d7-a9c8-440c-96f4-8d43d68c2943"
      },
      "cell_type": "code",
      "source": [
        "CHUNK = 0\n",
        "\n",
        "df_train = df_list[CHUNK].copy()\n",
        "df_train = add_features(df_train)\n",
        "df_train = clean_df(df_train)\n",
        "#df_train = simplify(df_train)\n",
        "\n",
        "df_train = df_train.reset_index()"
      ],
      "execution_count": 12,
      "outputs": [
        {
          "output_type": "stream",
          "text": [
            "Old size: 10000000\n",
            "New size: 9632462\n"
          ],
          "name": "stdout"
        }
      ]
    },
    {
      "metadata": {
        "id": "cUqPN3VlNyr5",
        "colab_type": "code",
        "colab": {}
      },
      "cell_type": "code",
      "source": [
        "df_test = pd.read_csv('./test.csv')\n",
        "df_test['pickup_datetime'] = df_test['pickup_datetime'].str.slice(0, 16)\n",
        "df_test['pickup_datetime'] = pd.to_datetime(df_test['pickup_datetime'], utc=True, format='%Y-%m-%d %H:%M')\n",
        "df_test = add_features(df_test)\n",
        "#df_test = simplify(df_test)"
      ],
      "execution_count": 0,
      "outputs": []
    },
    {
      "metadata": {
        "id": "RDwsddv9A2z4",
        "colab_type": "code",
        "colab": {}
      },
      "cell_type": "code",
      "source": [
        "df = df.reset_index()\n",
        "\n",
        "idx = np.random.randint(len(df), size=chunksize)\n",
        "df_train = df.loc[idx]\n",
        "#add_features(df_train)\n",
        "#df_train = clean_df(df_train)\n"
      ],
      "execution_count": 0,
      "outputs": []
    },
    {
      "metadata": {
        "id": "oRUUUb1FVPrP",
        "colab_type": "text"
      },
      "cell_type": "markdown",
      "source": [
        "# Fastai"
      ]
    },
    {
      "metadata": {
        "id": "8ldPlgqJVWjL",
        "colab_type": "code",
        "colab": {}
      },
      "cell_type": "code",
      "source": [
        "def rmse(y_pred, targ):\n",
        "    return math.sqrt(((y_pred-targ)**2).mean())"
      ],
      "execution_count": 0,
      "outputs": []
    },
    {
      "metadata": {
        "id": "FT_d3WVS8jy2",
        "colab_type": "code",
        "colab": {}
      },
      "cell_type": "code",
      "source": [
        "cat_vars = ['passenger_count', 'year', 'weekday', 'hour']\n",
        "cat_vars = ['year', 'weekday', 'hour']\n",
        "\n",
        "contin_vars = ['pickup_longitude', 'pickup_latitude', 'dropoff_longitude', \n",
        "               'dropoff_latitude', 'distance_miles', 'jfk_dist', 'ewr_dist', \n",
        "               'lga_dist']"
      ],
      "execution_count": 0,
      "outputs": []
    },
    {
      "metadata": {
        "id": "XXgCIV7MYWz7",
        "colab_type": "code",
        "colab": {}
      },
      "cell_type": "code",
      "source": [
        "dep = 'fare_amount'\n",
        "df_train = df_train[cat_vars+contin_vars+[dep]].copy()\n",
        "df_test = df_test[cat_vars+contin_vars].copy()"
      ],
      "execution_count": 0,
      "outputs": []
    },
    {
      "metadata": {
        "id": "EVqFh0BvcL5f",
        "colab_type": "code",
        "colab": {}
      },
      "cell_type": "code",
      "source": [
        "for v in cat_vars: \n",
        "    df_train[v] = df_train[v].astype('category').cat.as_ordered()\n",
        "    df_test[v] = df_test[v].astype('category').cat.as_ordered()\n",
        "  \n",
        "apply_cats(df_train, df_test)\n",
        "\n",
        "for v in contin_vars:\n",
        "    df_train[v] = df_train[v].fillna(0).astype('float32')\n",
        "    df_test[v] = df_test[v].fillna(0).astype('float32')"
      ],
      "execution_count": 0,
      "outputs": []
    },
    {
      "metadata": {
        "id": "gnjCu-uZdAZf",
        "colab_type": "code",
        "colab": {
          "base_uri": "https://localhost:8080/",
          "height": 35
        },
        "outputId": "eea9f509-9663-4b52-b2af-fde03ba680bf"
      },
      "cell_type": "code",
      "source": [
        "n = len(df_train); n"
      ],
      "execution_count": 18,
      "outputs": [
        {
          "output_type": "execute_result",
          "data": {
            "text/plain": [
              "9632462"
            ]
          },
          "metadata": {
            "tags": []
          },
          "execution_count": 18
        }
      ]
    },
    {
      "metadata": {
        "id": "RsJlD0_aXDE7",
        "colab_type": "code",
        "colab": {}
      },
      "cell_type": "code",
      "source": [
        "df_train, y, nas, mapper = proc_df(df_train, 'fare_amount', do_scale=True)\n",
        "df_test, _, nas, mapper = proc_df(df_test, do_scale=True, mapper=mapper, na_dict=nas) # skip_flds=['Id']"
      ],
      "execution_count": 0,
      "outputs": []
    },
    {
      "metadata": {
        "id": "tWDt216MDNL6",
        "colab_type": "code",
        "colab": {}
      },
      "cell_type": "code",
      "source": [
        "for v in cat_vars: \n",
        "    df_train[v] = df_train[v].astype('category').cat.as_ordered()\n",
        "    df_test[v] = df_test[v].astype('category').cat.as_ordered()\n",
        "  \n",
        "apply_cats(df_train, df_test)\n",
        "\n",
        "for v in contin_vars:\n",
        "    df_train[v] = df_train[v].fillna(0).astype('float32')\n",
        "    df_test[v] = df_test[v].fillna(0).astype('float32')"
      ],
      "execution_count": 0,
      "outputs": []
    },
    {
      "metadata": {
        "id": "B9MetLllV9Qs",
        "colab_type": "code",
        "colab": {}
      },
      "cell_type": "code",
      "source": [
        "val_idx = np.random.randint(n, size=int(n/10))"
      ],
      "execution_count": 0,
      "outputs": []
    },
    {
      "metadata": {
        "id": "qWBO71HHfn1V",
        "colab_type": "code",
        "colab": {
          "base_uri": "https://localhost:8080/",
          "height": 35
        },
        "outputId": "a6faca3c-c6c2-4243-d7d9-83e8fab8fcf0"
      },
      "cell_type": "code",
      "source": [
        "md = ColumnarModelData.from_data_frame('.', val_idx, df_train, y.astype(np.float32), cat_flds=cat_vars, bs=128,test_df=df_test)\n",
        "\n",
        "cat_sz = [(c, len(df_train[c].cat.categories)+1) for c in cat_vars]\n",
        "emb_szs = [(c, min(50, (c+1)//2)) for _,c in cat_sz]\n",
        "\n",
        "emb_szs"
      ],
      "execution_count": 22,
      "outputs": [
        {
          "output_type": "execute_result",
          "data": {
            "text/plain": [
              "[(8, 4), (8, 4), (25, 13)]"
            ]
          },
          "metadata": {
            "tags": []
          },
          "execution_count": 22
        }
      ]
    },
    {
      "metadata": {
        "id": "BPH6LZVKihjr",
        "colab_type": "code",
        "colab": {
          "base_uri": "https://localhost:8080/",
          "height": 1295
        },
        "outputId": "1e131295-cd3d-4e7e-8ee1-f5e1ced81625"
      },
      "cell_type": "code",
      "source": [
        "m = md.get_learner(emb_szs, len(df_train.columns)-len(cat_vars), \n",
        "                   0, 1, [256,64,16], [0.,0.,0.], use_bn=True)\n",
        "m.summary()"
      ],
      "execution_count": 23,
      "outputs": [
        {
          "output_type": "execute_result",
          "data": {
            "text/plain": [
              "OrderedDict([('Embedding-1',\n",
              "              OrderedDict([('input_shape', [-1]),\n",
              "                           ('output_shape', [-1, 4]),\n",
              "                           ('trainable', True),\n",
              "                           ('nb_params', 32)])),\n",
              "             ('Embedding-2',\n",
              "              OrderedDict([('input_shape', [-1]),\n",
              "                           ('output_shape', [-1, 4]),\n",
              "                           ('trainable', True),\n",
              "                           ('nb_params', 32)])),\n",
              "             ('Embedding-3',\n",
              "              OrderedDict([('input_shape', [-1]),\n",
              "                           ('output_shape', [-1, 13]),\n",
              "                           ('trainable', True),\n",
              "                           ('nb_params', 325)])),\n",
              "             ('Dropout-4',\n",
              "              OrderedDict([('input_shape', [-1, 21]),\n",
              "                           ('output_shape', [-1, 21]),\n",
              "                           ('nb_params', 0)])),\n",
              "             ('BatchNorm1d-5',\n",
              "              OrderedDict([('input_shape', [-1, 8]),\n",
              "                           ('output_shape', [-1, 8]),\n",
              "                           ('trainable', True),\n",
              "                           ('nb_params', 16)])),\n",
              "             ('Linear-6',\n",
              "              OrderedDict([('input_shape', [-1, 29]),\n",
              "                           ('output_shape', [-1, 256]),\n",
              "                           ('trainable', True),\n",
              "                           ('nb_params', 7680)])),\n",
              "             ('BatchNorm1d-7',\n",
              "              OrderedDict([('input_shape', [-1, 256]),\n",
              "                           ('output_shape', [-1, 256]),\n",
              "                           ('trainable', True),\n",
              "                           ('nb_params', 512)])),\n",
              "             ('Dropout-8',\n",
              "              OrderedDict([('input_shape', [-1, 256]),\n",
              "                           ('output_shape', [-1, 256]),\n",
              "                           ('nb_params', 0)])),\n",
              "             ('Linear-9',\n",
              "              OrderedDict([('input_shape', [-1, 256]),\n",
              "                           ('output_shape', [-1, 64]),\n",
              "                           ('trainable', True),\n",
              "                           ('nb_params', 16448)])),\n",
              "             ('BatchNorm1d-10',\n",
              "              OrderedDict([('input_shape', [-1, 64]),\n",
              "                           ('output_shape', [-1, 64]),\n",
              "                           ('trainable', True),\n",
              "                           ('nb_params', 128)])),\n",
              "             ('Dropout-11',\n",
              "              OrderedDict([('input_shape', [-1, 64]),\n",
              "                           ('output_shape', [-1, 64]),\n",
              "                           ('nb_params', 0)])),\n",
              "             ('Linear-12',\n",
              "              OrderedDict([('input_shape', [-1, 64]),\n",
              "                           ('output_shape', [-1, 16]),\n",
              "                           ('trainable', True),\n",
              "                           ('nb_params', 1040)])),\n",
              "             ('BatchNorm1d-13',\n",
              "              OrderedDict([('input_shape', [-1, 16]),\n",
              "                           ('output_shape', [-1, 16]),\n",
              "                           ('trainable', True),\n",
              "                           ('nb_params', 32)])),\n",
              "             ('Dropout-14',\n",
              "              OrderedDict([('input_shape', [-1, 16]),\n",
              "                           ('output_shape', [-1, 16]),\n",
              "                           ('nb_params', 0)])),\n",
              "             ('Linear-15',\n",
              "              OrderedDict([('input_shape', [-1, 16]),\n",
              "                           ('output_shape', [-1, 1]),\n",
              "                           ('trainable', True),\n",
              "                           ('nb_params', 17)]))])"
            ]
          },
          "metadata": {
            "tags": []
          },
          "execution_count": 23
        }
      ]
    },
    {
      "metadata": {
        "id": "QgevsGDeinJQ",
        "colab_type": "code",
        "colab": {}
      },
      "cell_type": "code",
      "source": [
        "lr = 1e-4\n",
        "m.lr_find()"
      ],
      "execution_count": 0,
      "outputs": []
    },
    {
      "metadata": {
        "id": "rmtWyJcXi6wu",
        "colab_type": "code",
        "colab": {
          "base_uri": "https://localhost:8080/",
          "height": 283
        },
        "outputId": "beea278c-f14d-4fa6-bc7e-f0bc1edae919"
      },
      "cell_type": "code",
      "source": [
        "m.sched.plot(100)"
      ],
      "execution_count": 25,
      "outputs": [
        {
          "output_type": "display_data",
          "data": {
            "image/png": "[encoded data removed]",
            "text/plain": [
              "<matplotlib.figure.Figure at 0x7f1e10278278>"
            ]
          },
          "metadata": {
            "tags": []
          }
        }
      ]
    },
    {
      "metadata": {
        "id": "Zl-FUu3FmLuZ",
        "colab_type": "text"
      },
      "cell_type": "markdown",
      "source": [
        "## All"
      ]
    },
    {
      "metadata": {
        "id": "nzbyGavXmMgs",
        "colab_type": "code",
        "colab": {}
      },
      "cell_type": "code",
      "source": [
        "#m = md.get_learner(emb_szs, len(df_train.columns)-len(cat_vars),\n",
        "#                   0.04, 1, [500,128,64], [0.001,0.01, 0.001])\n",
        "\n",
        "# This was used for the results\n",
        "'''m = md.get_learner(emb_szs, len(df_train.columns)-len(cat_vars), \n",
        "                   0.04, 1, [500,128], [0.001,0.01])'''\n",
        "\n",
        "'''m = md.get_learner(emb_szs, len(df_train.columns)-len(cat_vars), \n",
        "                   0.4, 1, [500,64], [0.01,0.1])\n",
        "'''\n",
        "\n",
        "m = md.get_learner(emb_szs, len(df_train.columns)-len(cat_vars), \n",
        "                   0., 1, [256,64,16], [0.,0.,0.], use_bn=True)\n"
      ],
      "execution_count": 0,
      "outputs": []
    },
    {
      "metadata": {
        "id": "DLSnUo4kHfbC",
        "colab_type": "code",
        "colab": {}
      },
      "cell_type": "code",
      "source": [
        "from google.colab import files\n",
        "files.upload()"
      ],
      "execution_count": 0,
      "outputs": []
    },
    {
      "metadata": {
        "id": "amIbq1GXIisS",
        "colab_type": "code",
        "colab": {}
      },
      "cell_type": "code",
      "source": [
        "!cp trained.simplified.chunk1.model.h5 models"
      ],
      "execution_count": 0,
      "outputs": []
    },
    {
      "metadata": {
        "id": "7FpigxksTd67",
        "colab_type": "code",
        "colab": {}
      },
      "cell_type": "code",
      "source": [
        "m.load('trained.chunk0.model')"
      ],
      "execution_count": 0,
      "outputs": []
    },
    {
      "metadata": {
        "id": "v8KQZh7Tm41k",
        "colab_type": "code",
        "colab": {
          "base_uri": "https://localhost:8080/",
          "height": 215
        },
        "outputId": "6587327b-852c-41b1-a287-f1c0407a2001"
      },
      "cell_type": "code",
      "source": [
        "%%time\n",
        "\n",
        "lr = 5e-4\n",
        "m.fit(lr, 10, metrics=[rmse])"
      ],
      "execution_count": 27,
      "outputs": [
        {
          "output_type": "display_data",
          "data": {
            "application/vnd.jupyter.widget-view+json": {
              "model_id": "711fb98a93b8443c9fb18f19d5b68de7",
              "version_minor": 0,
              "version_major": 2
            },
            "text/plain": [
              "HBox(children=(IntProgress(value=0, description='Epoch', max=10), HTML(value='')))"
            ]
          },
          "metadata": {
            "tags": []
          }
        },
        {
          "output_type": "stream",
          "text": [
            "epoch      trn_loss   val_loss   rmse       \n",
            "    0      9.412271   10.600605  3.097519  \n",
            "    1      9.509589   10.26389   3.047329  \n",
            "    2      9.36213    10.228595  3.039658  \n",
            "    3      10.306326  10.439108  3.083426  \n",
            "    4      9.405357   10.062971  3.014933  \n",
            "    5      8.686724   9.918216   2.986409  \n",
            "    6      10.861979  9.971682   2.994171  \n",
            "    7      7.86606    9.786429   2.967519  \n",
            " 72%|███████▏  | 49324/68092 [11:02<04:12, 74.48it/s, loss=8.77]Buffered data was truncated after reaching the output size limit."
          ],
          "name": "stdout"
        }
      ]
    },
    {
      "metadata": {
        "id": "IQP6_8Kt3P4N",
        "colab_type": "code",
        "colab": {
          "base_uri": "https://localhost:8080/",
          "height": 197
        },
        "outputId": "9d38dcfb-c9d5-44a3-efac-eafeb8708d66"
      },
      "cell_type": "code",
      "source": [
        "m.sched.rec_metrics"
      ],
      "execution_count": 28,
      "outputs": [
        {
          "output_type": "execute_result",
          "data": {
            "text/plain": [
              "[3.097518734840437,\n",
              " 3.047328746210686,\n",
              " 3.0396578186940544,\n",
              " 3.08342569265943,\n",
              " 3.0149328157473243,\n",
              " 2.9864094566216575,\n",
              " 2.9941712840395205,\n",
              " 2.967518803044933,\n",
              " 2.9693389935940586,\n",
              " 2.9595343109537606]"
            ]
          },
          "metadata": {
            "tags": []
          },
          "execution_count": 28
        }
      ]
    },
    {
      "metadata": {
        "id": "MhNL7rLY3SLk",
        "colab_type": "code",
        "colab": {
          "base_uri": "https://localhost:8080/",
          "height": 279
        },
        "outputId": "cfb1ff03-b8d4-4422-c9b8-64d056aab24b"
      },
      "cell_type": "code",
      "source": [
        "import matplotlib.pyplot as plt\n",
        "%matplotlib inline\n",
        "\n",
        "plt.plot(m.sched.rec_metrics)\n",
        "plt.ylabel('Training Loss (RMSE)')\n",
        "plt.xlabel('Epoch')\n",
        "plt.show()"
      ],
      "execution_count": 29,
      "outputs": [
        {
          "output_type": "display_data",
          "data": {
            "image/png": "[encoded data removed]",
            "text/plain": [
              "<matplotlib.figure.Figure at 0x7f1e4ca87048>"
            ]
          },
          "metadata": {
            "tags": []
          }
        }
      ]
    },
    {
      "metadata": {
        "id": "fc1Dm6OQFatJ",
        "colab_type": "code",
        "colab": {}
      },
      "cell_type": "code",
      "source": [
        "m.save('trained.chunk0-bn.model')"
      ],
      "execution_count": 0,
      "outputs": []
    },
    {
      "metadata": {
        "id": "V-UsAGwhCwvT",
        "colab_type": "code",
        "colab": {}
      },
      "cell_type": "code",
      "source": [
        "files.download('./models/trained.chunk0-bn.model.h5')"
      ],
      "execution_count": 0,
      "outputs": []
    },
    {
      "metadata": {
        "id": "ZwNJXD0AB9FN",
        "colab_type": "code",
        "colab": {}
      },
      "cell_type": "code",
      "source": [
        "y_test = m.predict(True)"
      ],
      "execution_count": 0,
      "outputs": []
    },
    {
      "metadata": {
        "id": "duaq63-iCBQW",
        "colab_type": "code",
        "colab": {}
      },
      "cell_type": "code",
      "source": [
        "y_test = y_test.flatten('F').tolist()"
      ],
      "execution_count": 0,
      "outputs": []
    },
    {
      "metadata": {
        "id": "HHVKFMyB8VwL",
        "colab_type": "code",
        "colab": {
          "base_uri": "https://localhost:8080/",
          "height": 204
        },
        "outputId": "0663fec0-3be3-4a7b-faab-b6fe052114ac"
      },
      "cell_type": "code",
      "source": [
        "df_temp = pd.read_csv('./test.csv')\n",
        "\n",
        "#Create submission file\n",
        "submission = pd.DataFrame({\n",
        "        \"key\": df_temp['key'],\n",
        "        \"fare_amount\": y_test\n",
        "})\n",
        "\n",
        "cols=[\"key\",\"fare_amount\"]\n",
        "submission=submission.reindex(columns=cols)\n",
        "\n",
        "submission.to_csv('submission_taxi_fare_nn_bn_0.csv',index=False)\n",
        "submission.head()"
      ],
      "execution_count": 34,
      "outputs": [
        {
          "output_type": "execute_result",
          "data": {
            "text/html": [
              "<div>\n",
              "<style scoped>\n",
              "    .dataframe tbody tr th:only-of-type {\n",
              "        vertical-align: middle;\n",
              "    }\n",
              "\n",
              "    .dataframe tbody tr th {\n",
              "        vertical-align: top;\n",
              "    }\n",
              "\n",
              "    .dataframe thead th {\n",
              "        text-align: right;\n",
              "    }\n",
              "</style>\n",
              "<table border=\"1\" class=\"dataframe\">\n",
              "  <thead>\n",
              "    <tr style=\"text-align: right;\">\n",
              "      <th></th>\n",
              "      <th>key</th>\n",
              "      <th>fare_amount</th>\n",
              "    </tr>\n",
              "  </thead>\n",
              "  <tbody>\n",
              "    <tr>\n",
              "      <th>0</th>\n",
              "      <td>2015-01-27 13:08:24.0000002</td>\n",
              "      <td>10.836576</td>\n",
              "    </tr>\n",
              "    <tr>\n",
              "      <th>1</th>\n",
              "      <td>2015-01-27 13:08:24.0000003</td>\n",
              "      <td>11.370538</td>\n",
              "    </tr>\n",
              "    <tr>\n",
              "      <th>2</th>\n",
              "      <td>2011-10-08 11:53:44.0000002</td>\n",
              "      <td>4.713321</td>\n",
              "    </tr>\n",
              "    <tr>\n",
              "      <th>3</th>\n",
              "      <td>2012-12-01 21:12:12.0000002</td>\n",
              "      <td>7.088305</td>\n",
              "    </tr>\n",
              "    <tr>\n",
              "      <th>4</th>\n",
              "      <td>2012-12-01 21:12:12.0000003</td>\n",
              "      <td>13.111337</td>\n",
              "    </tr>\n",
              "  </tbody>\n",
              "</table>\n",
              "</div>"
            ],
            "text/plain": [
              "                           key  fare_amount\n",
              "0  2015-01-27 13:08:24.0000002    10.836576\n",
              "1  2015-01-27 13:08:24.0000003    11.370538\n",
              "2  2011-10-08 11:53:44.0000002     4.713321\n",
              "3  2012-12-01 21:12:12.0000002     7.088305\n",
              "4  2012-12-01 21:12:12.0000003    13.111337"
            ]
          },
          "metadata": {
            "tags": []
          },
          "execution_count": 34
        }
      ]
    },
    {
      "metadata": {
        "id": "wbpEIPbrFiLJ",
        "colab_type": "code",
        "colab": {}
      },
      "cell_type": "code",
      "source": [
        "from google.colab import files\n",
        "files.download('submission_taxi_fare_nn_bn_0.csv')"
      ],
      "execution_count": 0,
      "outputs": []
    },
    {
      "metadata": {
        "id": "lbYiqbufM6hg",
        "colab_type": "code",
        "colab": {
          "base_uri": "https://localhost:8080/",
          "height": 297
        },
        "outputId": "ec8f2eef-2fc5-4742-8982-2d6e530dc120"
      },
      "cell_type": "code",
      "source": [
        "submission.describe()"
      ],
      "execution_count": 36,
      "outputs": [
        {
          "output_type": "execute_result",
          "data": {
            "text/html": [
              "<div>\n",
              "<style scoped>\n",
              "    .dataframe tbody tr th:only-of-type {\n",
              "        vertical-align: middle;\n",
              "    }\n",
              "\n",
              "    .dataframe tbody tr th {\n",
              "        vertical-align: top;\n",
              "    }\n",
              "\n",
              "    .dataframe thead th {\n",
              "        text-align: right;\n",
              "    }\n",
              "</style>\n",
              "<table border=\"1\" class=\"dataframe\">\n",
              "  <thead>\n",
              "    <tr style=\"text-align: right;\">\n",
              "      <th></th>\n",
              "      <th>fare_amount</th>\n",
              "    </tr>\n",
              "  </thead>\n",
              "  <tbody>\n",
              "    <tr>\n",
              "      <th>count</th>\n",
              "      <td>9914.000000</td>\n",
              "    </tr>\n",
              "    <tr>\n",
              "      <th>mean</th>\n",
              "      <td>11.229341</td>\n",
              "    </tr>\n",
              "    <tr>\n",
              "      <th>std</th>\n",
              "      <td>8.916825</td>\n",
              "    </tr>\n",
              "    <tr>\n",
              "      <th>min</th>\n",
              "      <td>3.717933</td>\n",
              "    </tr>\n",
              "    <tr>\n",
              "      <th>25%</th>\n",
              "      <td>6.200205</td>\n",
              "    </tr>\n",
              "    <tr>\n",
              "      <th>50%</th>\n",
              "      <td>8.368132</td>\n",
              "    </tr>\n",
              "    <tr>\n",
              "      <th>75%</th>\n",
              "      <td>12.350574</td>\n",
              "    </tr>\n",
              "    <tr>\n",
              "      <th>max</th>\n",
              "      <td>111.872040</td>\n",
              "    </tr>\n",
              "  </tbody>\n",
              "</table>\n",
              "</div>"
            ],
            "text/plain": [
              "       fare_amount\n",
              "count  9914.000000\n",
              "mean     11.229341\n",
              "std       8.916825\n",
              "min       3.717933\n",
              "25%       6.200205\n",
              "50%       8.368132\n",
              "75%      12.350574\n",
              "max     111.872040"
            ]
          },
          "metadata": {
            "tags": []
          },
          "execution_count": 36
        }
      ]
    },
    {
      "metadata": {
        "id": "s1sTG21xGjrv",
        "colab_type": "code",
        "colab": {
          "base_uri": "https://localhost:8080/",
          "height": 266
        },
        "outputId": "f1577a88-6c1b-4823-d251-b560581bdd43"
      },
      "cell_type": "code",
      "source": [
        "submission[submission.fare_amount > 80]"
      ],
      "execution_count": 37,
      "outputs": [
        {
          "output_type": "execute_result",
          "data": {
            "text/html": [
              "<div>\n",
              "<style scoped>\n",
              "    .dataframe tbody tr th:only-of-type {\n",
              "        vertical-align: middle;\n",
              "    }\n",
              "\n",
              "    .dataframe tbody tr th {\n",
              "        vertical-align: top;\n",
              "    }\n",
              "\n",
              "    .dataframe thead th {\n",
              "        text-align: right;\n",
              "    }\n",
              "</style>\n",
              "<table border=\"1\" class=\"dataframe\">\n",
              "  <thead>\n",
              "    <tr style=\"text-align: right;\">\n",
              "      <th></th>\n",
              "      <th>key</th>\n",
              "      <th>fare_amount</th>\n",
              "    </tr>\n",
              "  </thead>\n",
              "  <tbody>\n",
              "    <tr>\n",
              "      <th>643</th>\n",
              "      <td>2015-02-27 14:15:52.0000003</td>\n",
              "      <td>85.912277</td>\n",
              "    </tr>\n",
              "    <tr>\n",
              "      <th>4452</th>\n",
              "      <td>2015-05-25 22:13:09.0000002</td>\n",
              "      <td>83.568558</td>\n",
              "    </tr>\n",
              "    <tr>\n",
              "      <th>5115</th>\n",
              "      <td>2015-06-30 20:03:50.0000001</td>\n",
              "      <td>111.872040</td>\n",
              "    </tr>\n",
              "    <tr>\n",
              "      <th>6944</th>\n",
              "      <td>2014-06-14 13:39:00.000000149</td>\n",
              "      <td>86.652245</td>\n",
              "    </tr>\n",
              "    <tr>\n",
              "      <th>7269</th>\n",
              "      <td>2011-05-28 17:29:44.0000001</td>\n",
              "      <td>82.891541</td>\n",
              "    </tr>\n",
              "    <tr>\n",
              "      <th>7857</th>\n",
              "      <td>2014-03-04 16:24:45.0000001</td>\n",
              "      <td>91.341034</td>\n",
              "    </tr>\n",
              "    <tr>\n",
              "      <th>8890</th>\n",
              "      <td>2014-12-24 03:00:00.00000020</td>\n",
              "      <td>85.547363</td>\n",
              "    </tr>\n",
              "  </tbody>\n",
              "</table>\n",
              "</div>"
            ],
            "text/plain": [
              "                                key  fare_amount\n",
              "643     2015-02-27 14:15:52.0000003    85.912277\n",
              "4452    2015-05-25 22:13:09.0000002    83.568558\n",
              "5115    2015-06-30 20:03:50.0000001   111.872040\n",
              "6944  2014-06-14 13:39:00.000000149    86.652245\n",
              "7269    2011-05-28 17:29:44.0000001    82.891541\n",
              "7857    2014-03-04 16:24:45.0000001    91.341034\n",
              "8890   2014-12-24 03:00:00.00000020    85.547363"
            ]
          },
          "metadata": {
            "tags": []
          },
          "execution_count": 37
        }
      ]
    },
    {
      "metadata": {
        "id": "gOAv9KtIdPot",
        "colab_type": "code",
        "colab": {}
      },
      "cell_type": "code",
      "source": [
        ""
      ],
      "execution_count": 0,
      "outputs": []
    }
  ]
}